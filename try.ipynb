{
 "cells": [
  {
   "cell_type": "code",
   "execution_count": 22,
   "id": "394ceeb6",
   "metadata": {},
   "outputs": [],
   "source": [
    "from fastapi import FastAPI, UploadFile, File\n",
    "from fastapi.responses import JSONResponse\n",
    "from openai import OpenAI\n",
    "from dotenv import load_dotenv\n",
    "import os\n",
    "import time"
   ]
  },
  {
   "cell_type": "code",
   "execution_count": 23,
   "id": "099ce95d",
   "metadata": {},
   "outputs": [
    {
     "data": {
      "text/plain": [
       "True"
      ]
     },
     "execution_count": 23,
     "metadata": {},
     "output_type": "execute_result"
    }
   ],
   "source": [
    "load_dotenv()\n"
   ]
  },
  {
   "cell_type": "code",
   "execution_count": 24,
   "id": "a6f0021a",
   "metadata": {},
   "outputs": [],
   "source": [
    "client = OpenAI(api_key=os.getenv(\"OPEN_AI_API\"))\n"
   ]
  },
  {
   "cell_type": "code",
   "execution_count": 47,
   "id": "236745c4",
   "metadata": {},
   "outputs": [],
   "source": [
    "csv_file_path = f'C:/Users/mkath/Downloads/csv_data/age_gender.csv'  # Replace with the path of'C:\\Users\\mkath\\Downloads\\archive (6)'"
   ]
  },
  {
   "cell_type": "code",
   "execution_count": 26,
   "id": "b95d8742",
   "metadata": {},
   "outputs": [],
   "source": [
    "my_assistants = client.beta.assistants.list(\n",
    "    order=\"desc\",\n",
    "    limit=\"20\",\n",
    ")\n"
   ]
  },
  {
   "cell_type": "code",
   "execution_count": 27,
   "id": "fdc72fd9",
   "metadata": {},
   "outputs": [],
   "source": [
    "description= \"You are a Data Distribution Analysis Agent. Your task is to analyze a CSV dataset and determine whether it is fairly and equally distributed across categorical columns.\\n\\nFollow these instructions strictly:\\n1. Remove any rows with null or missing values.\\n2. Remove outliers from numerical columns using the IQR method (Q1 - 1.5*IQR to Q3 + 1.5*IQR).\\n3. Detect all categorical columns (columns with repeated non-numeric values).\\n4. For each categorical column:\\n   - Count value occurrences and calculate the percentage distribution.\\n   - Identify any categories with fewer than 10% representation or completely missing.\\n5. Determine whether each categorical column is equally distributed based on:\\n   - No class should dominate over 70%\\n   - No class should be under 10% or absent\\n\\nThen return a structured JSON in this format:\\n\\n{\\n  \\\"visualize\\\": {\\n    \\\"column_name\\\": {\\n      \\\"category1\\\": percent_value,\\n      \\\"category2\\\": percent_value,\\n      ...\\n    },\\n    ...\\n  },\\n  \\\"env\\\": {\\n    \\\"status\\\": \\\"Equally distributed\\\" or \\\"Not equally distributed\\\",\\n    \\\"missing_or_underrepresented\\\": [list any underrepresented or missing groups]\\n  },\\n  \\\"reason\\\": {\\n    \\\"verdict\\\": \\\"short summary of imbalance or fairness\\\",\\n    \\\"suggestions\\\": [\\n      \\\"suggest how to improve representation\\\",\\n      ...\\n    ]\\n  }\\n}\\n\\nKeep the response clean and strictly follow this JSON format. Only include relevant columns.\\n\"\n"
   ]
  },
  {
   "cell_type": "code",
   "execution_count": 48,
   "id": "02a91c11",
   "metadata": {},
   "outputs": [],
   "source": [
    "with open(csv_file_path, \"rb\") as f:\n",
    "    uploaded_file = client.files.create(file=f, purpose=\"assistants\")\n",
    "\n",
    "# Step 2: Create Assistant with code interpreter access\n",
    "\n",
    "\n",
    "# Step 3: Create a thread with your query\n"
   ]
  },
  {
   "cell_type": "code",
   "execution_count": null,
   "id": "f94b66cc",
   "metadata": {},
   "outputs": [
    {
     "data": {
      "text/plain": [
       "<bound method Messages.create of <openai.resources.beta.threads.messages.Messages object at 0x0000023C451872D0>>"
      ]
     },
     "execution_count": 16,
     "metadata": {},
     "output_type": "execute_result"
    }
   ],
   "source": [
    "client.beta.threads.messages.create"
   ]
  },
  {
   "cell_type": "code",
   "execution_count": null,
   "id": "1c9bc55d",
   "metadata": {},
   "outputs": [],
   "source": [
    "thread = client.beta.threads.messages.create(\n",
    "    thread_id=\"thread_eCNLCmvP2TDfY0HxAWLeWnH1\",\n",
    "        \n",
    "            role= \"user\",\n",
    "            content= \"Analyze this CSV file. Create 3 data visualizations and provide insight summaries.\",\n",
    "            attachments= [\n",
    "                {\n",
    "                    \"file_id\": uploaded_file.id,\n",
    "                    \"tools\": [{\"type\": \"code_interpreter\"}]\n",
    "                }\n",
    "            ]\n",
    "        \n",
    "    \n",
    ")\n"
   ]
  },
  {
   "cell_type": "code",
   "execution_count": 29,
   "id": "e8e74db9",
   "metadata": {},
   "outputs": [],
   "source": [
    "assistant_id = \"asst_RhWhWWq7aN8OfQ8oP0cwAmcn\"\n",
    "thread_id=\"thread_eCNLCmvP2TDfY0HxAWLeWnH1\""
   ]
  },
  {
   "cell_type": "code",
   "execution_count": null,
   "id": "a6948eae",
   "metadata": {},
   "outputs": [],
   "source": [
    "\n",
    "# Create a run\n",
    "run = client.beta.threads.runs.create(\n",
    "    thread_id=\"thread_eCNLCmvP2TDfY0HxAWLeWnH1\",\n",
    "    assistant_id=assistant_id\n",
    ")"
   ]
  },
  {
   "cell_type": "code",
   "execution_count": 31,
   "id": "6ae29166",
   "metadata": {},
   "outputs": [],
   "source": [
    "while True:\n",
    "    run_status = client.beta.threads.runs.retrieve(thread_id=thread_id, run_id=run.id)\n",
    "    if run_status.status in [\"completed\", \"failed\", \"cancelled\"]:\n",
    "        break\n",
    "    time.sleep(2)"
   ]
  },
  {
   "cell_type": "code",
   "execution_count": null,
   "id": "3257294c",
   "metadata": {},
   "outputs": [
    {
     "data": {
      "text/plain": [
       "'completed'"
      ]
     },
     "execution_count": 33,
     "metadata": {},
     "output_type": "execute_result"
    }
   ],
   "source": []
  },
  {
   "cell_type": "code",
   "execution_count": 35,
   "id": "26cfb85c",
   "metadata": {},
   "outputs": [
    {
     "ename": "IndexError",
     "evalue": "list index out of range",
     "output_type": "error",
     "traceback": [
      "\u001b[31m---------------------------------------------------------------------------\u001b[39m",
      "\u001b[31mIndexError\u001b[39m                                Traceback (most recent call last)",
      "\u001b[36mCell\u001b[39m\u001b[36m \u001b[39m\u001b[32mIn[35]\u001b[39m\u001b[32m, line 3\u001b[39m\n\u001b[32m      1\u001b[39m \u001b[38;5;66;03m# Step 6: Get the response\u001b[39;00m\n\u001b[32m      2\u001b[39m messages = client.beta.threads.messages.list(thread_id=thread_id)\n\u001b[32m----> \u001b[39m\u001b[32m3\u001b[39m final_message = \u001b[43mmessages\u001b[49m\u001b[43m.\u001b[49m\u001b[43mdata\u001b[49m\u001b[43m[\u001b[49m\u001b[32;43m0\u001b[39;49m\u001b[43m]\u001b[49m\u001b[43m.\u001b[49m\u001b[43mcontent\u001b[49m\u001b[43m[\u001b[49m\u001b[32;43m0\u001b[39;49m\u001b[43m]\u001b[49m.text.value \u001b[38;5;28;01mif\u001b[39;00m messages.data \u001b[38;5;28;01melse\u001b[39;00m \u001b[33m\"\u001b[39m\u001b[33mNo response.\u001b[39m\u001b[33m\"\u001b[39m\n\u001b[32m      5\u001b[39m \u001b[38;5;28mprint\u001b[39m(\u001b[33m\"\u001b[39m\u001b[33m=== Assistant\u001b[39m\u001b[33m'\u001b[39m\u001b[33ms Output ===\u001b[39m\u001b[33m\"\u001b[39m)\n\u001b[32m      6\u001b[39m \u001b[38;5;28mprint\u001b[39m(final_message)\n",
      "\u001b[31mIndexError\u001b[39m: list index out of range"
     ]
    }
   ],
   "source": [
    "\n",
    "\n",
    "# Step 6: Get the response\n",
    "messages = client.beta.threads.messages.list(thread_id=thread_id)\n",
    "final_message = messages.data[0].content[0].text.value if messages.data else \"No response.\"\n",
    "\n",
    "print(\"=== Assistant's Output ===\")\n",
    "print(final_message)"
   ]
  },
  {
   "cell_type": "code",
   "execution_count": 51,
   "id": "fad56cfb",
   "metadata": {},
   "outputs": [],
   "source": [
    "thread = client.beta.threads.create()"
   ]
  },
  {
   "cell_type": "code",
   "execution_count": 55,
   "id": "a4f9f58a",
   "metadata": {},
   "outputs": [
    {
     "data": {
      "text/plain": [
       "Message(id='msg_2MbBpRCeJiPlT3lHlzeznBY0', assistant_id=None, attachments=[Attachment(file_id='file-V4YS2UVv8KJ8UwG4J24Kyr', tools=[CodeInterpreterTool(type='code_interpreter')])], completed_at=None, content=[TextContentBlock(text=Text(annotations=[], value='Analyze this CSV file and summarize key trends.'), type='text')], created_at=1745102690, incomplete_at=None, incomplete_details=None, metadata={}, object='thread.message', role='user', run_id=None, status=None, thread_id='thread_eJliMcrdCVdpSPUfPqHVBNNE')"
      ]
     },
     "execution_count": 55,
     "metadata": {},
     "output_type": "execute_result"
    }
   ],
   "source": [
    "client.beta.threads.messages.create(\n",
    "    thread_id=thread.id,\n",
    "    # assistant_id=assistant_id,\n",
    "    role=\"user\",\n",
    "    content=\"Analyze this CSV file and summarize key trends.\",\n",
    "    attachments=[\n",
    "        {\n",
    "            \"file_id\": uploaded_file.id,\n",
    "            \"tools\": [{\"type\": \"code_interpreter\"}]\n",
    "        }\n",
    "    ]\n",
    ")"
   ]
  },
  {
   "cell_type": "code",
   "execution_count": 43,
   "id": "958876e9",
   "metadata": {},
   "outputs": [
    {
     "data": {
      "text/plain": [
       "'file-XRehki1R5xS8NuiSwwMKv7'"
      ]
     },
     "execution_count": 43,
     "metadata": {},
     "output_type": "execute_result"
    }
   ],
   "source": [
    "uploaded_file.id"
   ]
  },
  {
   "cell_type": "code",
   "execution_count": 56,
   "id": "d3d5f300",
   "metadata": {},
   "outputs": [],
   "source": [
    "run = client.beta.threads.runs.create(\n",
    "    thread_id=thread.id,\n",
    "    assistant_id=assistant_id\n",
    ")"
   ]
  },
  {
   "cell_type": "code",
   "execution_count": 57,
   "id": "e9733bf8",
   "metadata": {},
   "outputs": [],
   "source": [
    "while True:\n",
    "    run_status = client.beta.threads.runs.retrieve(thread_id=thread.id, run_id=run.id)\n",
    "    if run_status.status in [\"completed\", \"failed\", \"cancelled\"]:\n",
    "        break\n",
    "    time.sleep(2)"
   ]
  },
  {
   "cell_type": "code",
   "execution_count": null,
   "id": "d1398723",
   "metadata": {},
   "outputs": [
    {
     "name": "stdout",
     "output_type": "stream",
     "text": [
      "=== Assistant's Output ===\n",
      "Here is the analysis of the categorical columns in the dataset:\n",
      "\n",
      "```json\n",
      "{\n",
      "  \"visualize\": {\n",
      "    \"ethnicity\": {\n",
      "      \"0\": 41.63,\n",
      "      \"1\": 19.41,\n",
      "      \"3\": 17.16,\n",
      "      \"2\": 14.46,\n",
      "      \"4\": 7.34\n",
      "    },\n",
      "    \"gender\": {\n",
      "      \"0\": 52.66,\n",
      "      \"1\": 47.34\n",
      "    }\n",
      "  },\n",
      "  \"env\": {\n",
      "    \"status\": \"Not equally distributed\",\n",
      "    \"missing_or_underrepresented\": [\"ethnicity\"]\n",
      "  },\n",
      "  \"reason\": {\n",
      "    \"verdict\": \"The dataset's ethnicity distribution is not even, with one category under 10% and another over 40%.\",\n",
      "    \"suggestions\": [\n",
      "      \"Increase representation of underrepresented ethnic categories.\",\n",
      "      \"Ensure balanced representation across ethnic groups in new data collections.\"\n",
      "    ]\n",
      "  }\n",
      "}\n",
      "```\n",
      "\n",
      "### Summary:\n",
      "- **Ethnicity** is not equally distributed. The category '4' has only 7.34% representation, which is below 10%. On the other hand, category '0' is dominant with 41.63%.\n",
      "- **Gender** is relatively balanced between the two categories (52.66% and 47.34%).\n",
      "\n",
      "**Suggestions for Improvement:**\n",
      "- Focus on collecting more data for the less represented ethnicity categories to ensure fair representation.\n",
      "- Consider methods to achieve more uniform representation across all categorical groups in future data gathering efforts.\n"
     ]
    }
   ],
   "source": [
    "# Step 6: Get the response\n",
    "while True:\n",
    "    run_status = client.beta.threads.runs.retrieve(thread_id=thread.id, run_id=run.id)\n",
    "    if run_status.status in [\"completed\", \"failed\", \"cancelled\"]:\n",
    "        break\n",
    "    time.sleep(2)\n",
    "messages = client.beta.threads.messages.list(thread_id=thread.id)\n",
    "final_message = messages.data[0].content[0].text.value if messages.data else \"No response.\"\n",
    "\n",
    "print(\"=== Assistant's Output ===\")\n",
    "print(final_message)"
   ]
  },
  {
   "cell_type": "code",
   "execution_count": 59,
   "id": "7e4ae157",
   "metadata": {},
   "outputs": [],
   "source": [
    "import json\n",
    "import re"
   ]
  },
  {
   "cell_type": "code",
   "execution_count": 61,
   "id": "99e7bf2b",
   "metadata": {},
   "outputs": [
    {
     "name": "stdout",
     "output_type": "stream",
     "text": [
      "{\n",
      "  \"visualize\": {\n",
      "    \"ethnicity\": {\n",
      "      \"0\": 41.63,\n",
      "      \"1\": 19.41,\n",
      "      \"3\": 17.16,\n",
      "      \"2\": 14.46,\n",
      "      \"4\": 7.34\n",
      "    },\n",
      "    \"gender\": {\n",
      "      \"0\": 52.66,\n",
      "      \"1\": 47.34\n",
      "    }\n",
      "  },\n",
      "  \"env\": {\n",
      "    \"status\": \"Not equally distributed\",\n",
      "    \"missing_or_underrepresented\": [\n",
      "      \"ethnicity\"\n",
      "    ]\n",
      "  },\n",
      "  \"reason\": {\n",
      "    \"verdict\": \"The dataset's ethnicity distribution is not even, with one category under 10% and another over 40%.\",\n",
      "    \"suggestions\": [\n",
      "      \"Increase representation of underrepresented ethnic categories.\",\n",
      "      \"Ensure balanced representation across ethnic groups in new data collections.\"\n",
      "    ]\n",
      "  }\n",
      "}\n"
     ]
    }
   ],
   "source": [
    "raw_response = messages.data[0].content[0].text.value\n",
    "\n",
    "# Extract content between triple backticks (```json ... ```)\n",
    "match = re.search(r\"```(?:json)?\\s*(\\{.*?\\})\\s*```\", raw_response, re.DOTALL)\n",
    "\n",
    "if match:\n",
    "    json_block = match.group(1)  # this is the content inside ```\n",
    "    try:\n",
    "        parsed_json = json.loads(json_block)\n",
    "        \n",
    "        print(json.dumps(parsed_json, indent=2))\n",
    "    except json.JSONDecodeError as e:\n",
    "        print(\"❌ Failed to parse JSON:\", e)\n",
    "else:\n",
    "    print(\"❌ No valid JSON block found between triple backticks.\")"
   ]
  },
  {
   "cell_type": "code",
   "execution_count": null,
   "id": "4e39dfc3",
   "metadata": {},
   "outputs": [],
   "source": []
  }
 ],
 "metadata": {
  "kernelspec": {
   "display_name": "Python 3",
   "language": "python",
   "name": "python3"
  },
  "language_info": {
   "codemirror_mode": {
    "name": "ipython",
    "version": 3
   },
   "file_extension": ".py",
   "mimetype": "text/x-python",
   "name": "python",
   "nbconvert_exporter": "python",
   "pygments_lexer": "ipython3",
   "version": "3.11.9"
  }
 },
 "nbformat": 4,
 "nbformat_minor": 5
}
